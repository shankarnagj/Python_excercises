{
 "cells": [
  {
   "cell_type": "code",
   "execution_count": 15,
   "metadata": {},
   "outputs": [],
   "source": [
    "class Person:\n",
    "    def __init__(self,name,age,qua,gender,location):\n",
    "        self.name=name\n",
    "        self.age=age\n",
    "        self.qua=qua\n",
    "        self.gender=gender\n",
    "        self.location=location\n",
    "\n",
    "    def eat(self):\n",
    "        return (f\"{self.name} is eating\")\n",
    "janu=Person(\"janu\",\"21\",\"Btech\",\"M\",\"IM\")\n",
    "\n",
    "    "
   ]
  },
  {
   "cell_type": "code",
   "execution_count": 9,
   "metadata": {},
   "outputs": [
    {
     "data": {
      "text/plain": [
       "'21'"
      ]
     },
     "execution_count": 9,
     "metadata": {},
     "output_type": "execute_result"
    }
   ],
   "source": [
    "janu.age"
   ]
  },
  {
   "cell_type": "code",
   "execution_count": 16,
   "metadata": {},
   "outputs": [
    {
     "data": {
      "text/plain": [
       "'janu is eating'"
      ]
     },
     "execution_count": 16,
     "metadata": {},
     "output_type": "execute_result"
    }
   ],
   "source": [
    "janu.eat()"
   ]
  },
  {
   "cell_type": "code",
   "execution_count": 34,
   "metadata": {},
   "outputs": [],
   "source": [
    "class Engineer(Person):\n",
    "    def __init__(self,name,age,qua,gender,location,salary):\n",
    "        super().__init__(name,age,qua,gender,location)\n",
    "        self.salary=salary\n",
    "    def eat(self):\n",
    "        return print(f\"{self.name} is eating in office canteen\")       \n",
    "Viswa=Engineer(\"Viswa\",\"25\",\"Btech\",\"M\",\"IM\",25000)\n",
    "        "
   ]
  },
  {
   "cell_type": "code",
   "execution_count": 25,
   "metadata": {},
   "outputs": [
    {
     "name": "stdout",
     "output_type": "stream",
     "text": [
      "25000\n"
     ]
    }
   ],
   "source": [
    "print(Viswa.salary)"
   ]
  },
  {
   "cell_type": "code",
   "execution_count": 28,
   "metadata": {},
   "outputs": [
    {
     "name": "stdout",
     "output_type": "stream",
     "text": [
      "name is Viswa,gender isM,salary is 25000,age is 25,qualification is Btech,located in IM\n"
     ]
    }
   ],
   "source": [
    "print(f\"name is {Viswa.name},gender is{Viswa.gender},salary is {Viswa.salary},age is {Viswa.age},qualification is {Viswa.qua},located in {Viswa.location}\")"
   ]
  },
  {
   "cell_type": "code",
   "execution_count": 32,
   "metadata": {},
   "outputs": [],
   "source": []
  },
  {
   "cell_type": "code",
   "execution_count": 35,
   "metadata": {},
   "outputs": [
    {
     "name": "stdout",
     "output_type": "stream",
     "text": [
      "Viswa is eating in office canteen\n"
     ]
    }
   ],
   "source": [
    "Viswa.eat()"
   ]
  },
  {
   "cell_type": "code",
   "execution_count": null,
   "metadata": {},
   "outputs": [],
   "source": []
  }
 ],
 "metadata": {
  "kernelspec": {
   "display_name": "Python 3",
   "language": "python",
   "name": "python3"
  },
  "language_info": {
   "codemirror_mode": {
    "name": "ipython",
    "version": 3
   },
   "file_extension": ".py",
   "mimetype": "text/x-python",
   "name": "python",
   "nbconvert_exporter": "python",
   "pygments_lexer": "ipython3",
   "version": "3.8.5"
  }
 },
 "nbformat": 4,
 "nbformat_minor": 4
}
