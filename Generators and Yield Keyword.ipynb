{
 "cells": [
  {
   "cell_type": "code",
   "execution_count": 2,
   "id": "encouraging-filename",
   "metadata": {},
   "outputs": [],
   "source": [
    "def nextnumber():\n",
    "    i =1\n",
    "    while True :\n",
    "        yield i   # return current state of i\n",
    "        i = i+1   # execution starts for next function call"
   ]
  },
  {
   "cell_type": "code",
   "execution_count": 7,
   "id": "saving-washington",
   "metadata": {},
   "outputs": [
    {
     "name": "stdout",
     "output_type": "stream",
     "text": [
      "<generator object nextnumber at 0x000001CF7EE6E580>\n"
     ]
    }
   ],
   "source": [
    "for num in nextnumber():\n",
    "    if num>5:\n",
    "        break\n",
    "    print(num)"
   ]
  },
  {
   "cell_type": "code",
   "execution_count": null,
   "id": "widespread-independence",
   "metadata": {},
   "outputs": [],
   "source": []
  },
  {
   "cell_type": "code",
   "execution_count": 8,
   "id": "improved-cloud",
   "metadata": {},
   "outputs": [
    {
     "name": "stdout",
     "output_type": "stream",
     "text": [
      "1\n",
      "2\n",
      "3\n"
     ]
    }
   ],
   "source": [
    "def simple() :\n",
    "    yield 1  # return \n",
    "    yield 2\n",
    "    yield 3\n",
    "\n",
    "for value in simple():\n",
    "    print(value)"
   ]
  },
  {
   "cell_type": "code",
   "execution_count": null,
   "id": "afraid-option",
   "metadata": {},
   "outputs": [],
   "source": []
  },
  {
   "cell_type": "code",
   "execution_count": 28,
   "id": "voluntary-partition",
   "metadata": {},
   "outputs": [
    {
     "name": "stdout",
     "output_type": "stream",
     "text": [
      "0\n",
      "1\n",
      "1\n",
      "2\n",
      "3\n",
      "5\n"
     ]
    }
   ],
   "source": [
    "def fibonacci(end) :\n",
    "    a,b = 0,1   # a=0,b=1\n",
    "    \n",
    "    while a < end:\n",
    "        yield a\n",
    "        a,b = b,a+b\n",
    "        \n",
    "x = fibonacci(7)\n",
    "print(x.__next__())\n",
    "print(x.__next__())\n",
    "print(x.__next__())\n",
    "print(x.__next__())\n",
    "print(x.__next__())\n",
    "print(x.__next__())\n",
    "\n",
    "\n",
    "# for i in fibonacci(12) :\n",
    "#     print(i)"
   ]
  },
  {
   "cell_type": "code",
   "execution_count": null,
   "id": "minute-portfolio",
   "metadata": {},
   "outputs": [],
   "source": [
    "a = 0,b=1    return 0  print(0)\n",
    "a=1,b=1  return 1   print(1)\n",
    "a=1,b=2   return 1   \n",
    "a=2,b=3    return 2 \n",
    "a=3,b=5  return 3\n",
    "a=5,b=8 return 5\n",
    "a=8,b=13 return 8 print(8)\n",
    "a= 13 b= 21  while 13<12  #end =12\n",
    "\n"
   ]
  },
  {
   "cell_type": "code",
   "execution_count": null,
   "id": "cooked-grass",
   "metadata": {},
   "outputs": [],
   "source": []
  },
  {
   "cell_type": "code",
   "execution_count": null,
   "id": "generic-retreat",
   "metadata": {},
   "outputs": [],
   "source": []
  }
 ],
 "metadata": {
  "kernelspec": {
   "display_name": "Python [conda env:el-dorado] *",
   "language": "python",
   "name": "conda-env-el-dorado-py"
  },
  "language_info": {
   "codemirror_mode": {
    "name": "ipython",
    "version": 3
   },
   "file_extension": ".py",
   "mimetype": "text/x-python",
   "name": "python",
   "nbconvert_exporter": "python",
   "pygments_lexer": "ipython3",
   "version": "3.8.8"
  }
 },
 "nbformat": 4,
 "nbformat_minor": 5
}
