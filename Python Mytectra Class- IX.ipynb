{
 "cells": [
  {
   "cell_type": "code",
   "execution_count": 9,
   "metadata": {
    "ExecuteTime": {
     "end_time": "2021-01-06T14:20:15.182754Z",
     "start_time": "2021-01-06T14:20:09.179526Z"
    }
   },
   "outputs": [
    {
     "name": "stdout",
     "output_type": "stream",
     "text": [
      "Enter x : 46\n",
      "Enter y :128\n"
     ]
    }
   ],
   "source": [
    "x = int(input(\"Enter x : \"))\n",
    "y = int(input(\"Enter y :\"))"
   ]
  },
  {
   "cell_type": "code",
   "execution_count": 10,
   "metadata": {
    "ExecuteTime": {
     "end_time": "2021-01-06T14:20:17.650656Z",
     "start_time": "2021-01-06T14:20:17.644089Z"
    }
   },
   "outputs": [
    {
     "name": "stdout",
     "output_type": "stream",
     "text": [
      "y is greater than x\n",
      "and it is even\n"
     ]
    }
   ],
   "source": [
    "if x > y :\n",
    "    print('x is greater than y')\n",
    "    if x % 2 == 0 :\n",
    "        print('and it is is even')\n",
    "    else :\n",
    "        print('x and it is odd')\n",
    "elif x < y :\n",
    "    print('y is greater than x')\n",
    "    if y % 2 == 0 :\n",
    "        print('and it is even')\n",
    "    else :\n",
    "        print('and it  is odd')\n",
    "    \n",
    "else :\n",
    "    print('x is equal to y')"
   ]
  },
  {
   "cell_type": "code",
   "execution_count": 11,
   "metadata": {
    "ExecuteTime": {
     "end_time": "2021-01-06T14:25:28.260685Z",
     "start_time": "2021-01-06T14:25:28.252782Z"
    }
   },
   "outputs": [],
   "source": [
    "def num_pattern(n) :\n",
    "    num = 1\n",
    "    for i in range(0,n) : #0,1,... n-1\n",
    "        num = 1\n",
    "        for j in range(0,i+1) :\n",
    "            print(num,end = \" \")\n",
    "            num = num + 1\n",
    "        print(\"\\r\")\n",
    "        "
   ]
  },
  {
   "cell_type": "code",
   "execution_count": 13,
   "metadata": {
    "ExecuteTime": {
     "end_time": "2021-01-06T14:25:39.411577Z",
     "start_time": "2021-01-06T14:25:39.404071Z"
    }
   },
   "outputs": [
    {
     "name": "stdout",
     "output_type": "stream",
     "text": [
      "1 \r\n",
      "1 2 \r\n",
      "1 2 3 \r\n",
      "1 2 3 4 \r\n",
      "1 2 3 4 5 \r\n",
      "1 2 3 4 5 6 \r\n",
      "1 2 3 4 5 6 7 \r\n",
      "1 2 3 4 5 6 7 8 \r\n",
      "1 2 3 4 5 6 7 8 9 \r\n",
      "1 2 3 4 5 6 7 8 9 10 \r\n"
     ]
    }
   ],
   "source": [
    "num_pattern(10)"
   ]
  },
  {
   "cell_type": "code",
   "execution_count": null,
   "metadata": {
    "ExecuteTime": {
     "end_time": "2021-01-06T14:36:56.170984Z",
     "start_time": "2021-01-06T14:34:27.592Z"
    }
   },
   "outputs": [],
   "source": [
    "for i in range(0,10) : # 0,1,2... n-1\n",
    "    print(i+1, end = \" \")"
   ]
  },
  {
   "cell_type": "code",
   "execution_count": 27,
   "metadata": {
    "ExecuteTime": {
     "end_time": "2021-01-06T14:52:15.555892Z",
     "start_time": "2021-01-06T14:52:15.548884Z"
    }
   },
   "outputs": [
    {
     "name": "stdout",
     "output_type": "stream",
     "text": [
      "1\n",
      "2\n",
      "3\n",
      "4\n"
     ]
    }
   ],
   "source": [
    "i = 1\n",
    "while i <= 4 :\n",
    "    print(i)\n",
    "    i+=1 # i = i+1"
   ]
  },
  {
   "cell_type": "code",
   "execution_count": null,
   "metadata": {},
   "outputs": [],
   "source": []
  }
 ],
 "metadata": {
  "hide_input": false,
  "kernelspec": {
   "display_name": "el-dorado",
   "language": "python",
   "name": "el-dorado"
  },
  "language_info": {
   "codemirror_mode": {
    "name": "ipython",
    "version": 3
   },
   "file_extension": ".py",
   "mimetype": "text/x-python",
   "name": "python",
   "nbconvert_exporter": "python",
   "pygments_lexer": "ipython3",
   "version": "3.8.5"
  },
  "toc": {
   "base_numbering": 1,
   "nav_menu": {},
   "number_sections": true,
   "sideBar": true,
   "skip_h1_title": false,
   "title_cell": "Table of Contents",
   "title_sidebar": "Contents",
   "toc_cell": false,
   "toc_position": {},
   "toc_section_display": true,
   "toc_window_display": false
  },
  "varInspector": {
   "cols": {
    "lenName": 16,
    "lenType": 16,
    "lenVar": 40
   },
   "kernels_config": {
    "python": {
     "delete_cmd_postfix": "",
     "delete_cmd_prefix": "del ",
     "library": "var_list.py",
     "varRefreshCmd": "print(var_dic_list())"
    },
    "r": {
     "delete_cmd_postfix": ") ",
     "delete_cmd_prefix": "rm(",
     "library": "var_list.r",
     "varRefreshCmd": "cat(var_dic_list()) "
    }
   },
   "types_to_exclude": [
    "module",
    "function",
    "builtin_function_or_method",
    "instance",
    "_Feature"
   ],
   "window_display": false
  }
 },
 "nbformat": 4,
 "nbformat_minor": 4
}
