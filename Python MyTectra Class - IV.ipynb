{
 "cells": [
  {
   "cell_type": "code",
   "execution_count": 95,
   "metadata": {
    "ExecuteTime": {
     "end_time": "2020-12-28T14:20:49.514711Z",
     "start_time": "2020-12-28T14:20:49.510331Z"
    }
   },
   "outputs": [],
   "source": [
    "x = range(2,18,3) #range(start,stop,step_size)"
   ]
  },
  {
   "cell_type": "code",
   "execution_count": 96,
   "metadata": {
    "ExecuteTime": {
     "end_time": "2020-12-28T14:20:49.774096Z",
     "start_time": "2020-12-28T14:20:49.768217Z"
    }
   },
   "outputs": [
    {
     "data": {
      "text/plain": [
       "range(2, 18, 3)"
      ]
     },
     "execution_count": 96,
     "metadata": {},
     "output_type": "execute_result"
    }
   ],
   "source": [
    "x"
   ]
  },
  {
   "cell_type": "code",
   "execution_count": 97,
   "metadata": {
    "ExecuteTime": {
     "end_time": "2020-12-28T14:21:13.500275Z",
     "start_time": "2020-12-28T14:21:13.495948Z"
    }
   },
   "outputs": [
    {
     "name": "stdout",
     "output_type": "stream",
     "text": [
      "[2, 5, 8, 11, 14, 17]\n"
     ]
    }
   ],
   "source": [
    "print(list(x))"
   ]
  },
  {
   "cell_type": "code",
   "execution_count": 85,
   "metadata": {
    "ExecuteTime": {
     "end_time": "2020-12-28T14:17:16.006705Z",
     "start_time": "2020-12-28T14:17:16.000870Z"
    }
   },
   "outputs": [],
   "source": [
    "y = [3,4,5,6]"
   ]
  },
  {
   "cell_type": "code",
   "execution_count": 98,
   "metadata": {
    "ExecuteTime": {
     "end_time": "2020-12-28T14:22:17.839126Z",
     "start_time": "2020-12-28T14:22:17.833122Z"
    }
   },
   "outputs": [
    {
     "name": "stdout",
     "output_type": "stream",
     "text": [
      "[3, 4, 5, 6, 2, 5, 8, 11, 14, 17]\n"
     ]
    }
   ],
   "source": [
    "y.extend(x)\n",
    "print(y)"
   ]
  },
  {
   "cell_type": "code",
   "execution_count": 100,
   "metadata": {
    "ExecuteTime": {
     "end_time": "2020-12-28T14:24:25.023671Z",
     "start_time": "2020-12-28T14:24:25.017699Z"
    }
   },
   "outputs": [
    {
     "name": "stdout",
     "output_type": "stream",
     "text": [
      "[3, 4, 5, 6, 2, 5, 8, 11, 14, 17]\n"
     ]
    }
   ],
   "source": [
    "z = [3,4,5,6]\n",
    "z+=x # z= z+x\n",
    "print(z)"
   ]
  },
  {
   "cell_type": "code",
   "execution_count": 101,
   "metadata": {
    "ExecuteTime": {
     "end_time": "2020-12-28T14:25:34.393304Z",
     "start_time": "2020-12-28T14:25:34.385269Z"
    }
   },
   "outputs": [
    {
     "name": "stdout",
     "output_type": "stream",
     "text": [
      "Den\n"
     ]
    }
   ],
   "source": [
    "x = 'pen'\n",
    "y = x.replace('p','D')\n",
    "print(y)"
   ]
  },
  {
   "cell_type": "code",
   "execution_count": 107,
   "metadata": {
    "ExecuteTime": {
     "end_time": "2020-12-28T14:30:09.461548Z",
     "start_time": "2020-12-28T14:30:09.456547Z"
    }
   },
   "outputs": [],
   "source": [
    "x = range(10)"
   ]
  },
  {
   "cell_type": "code",
   "execution_count": 113,
   "metadata": {
    "ExecuteTime": {
     "end_time": "2020-12-28T14:33:31.838588Z",
     "start_time": "2020-12-28T14:33:31.830538Z"
    }
   },
   "outputs": [
    {
     "data": {
      "text/plain": [
       "[0, 1, 2, 3, 4, 5, 6, 7, 8, 9]"
      ]
     },
     "execution_count": 113,
     "metadata": {},
     "output_type": "execute_result"
    }
   ],
   "source": [
    "list(x)"
   ]
  },
  {
   "cell_type": "code",
   "execution_count": 153,
   "metadata": {
    "ExecuteTime": {
     "end_time": "2020-12-28T14:57:44.688472Z",
     "start_time": "2020-12-28T14:57:44.682503Z"
    }
   },
   "outputs": [],
   "source": [
    "def display(name,age,gender = \"Not Specified\") :\n",
    "    print(f\"{name} age is {age},Gender - {gender}\")\n",
    "    return [name,age]"
   ]
  },
  {
   "cell_type": "code",
   "execution_count": 154,
   "metadata": {
    "ExecuteTime": {
     "end_time": "2020-12-28T14:57:44.924074Z",
     "start_time": "2020-12-28T14:57:44.917279Z"
    }
   },
   "outputs": [
    {
     "name": "stdout",
     "output_type": "stream",
     "text": [
      "John age is 28,Gender - Male\n"
     ]
    }
   ],
   "source": [
    "value = display('John',28,'Male')"
   ]
  },
  {
   "cell_type": "code",
   "execution_count": 158,
   "metadata": {
    "ExecuteTime": {
     "end_time": "2020-12-28T15:01:21.380915Z",
     "start_time": "2020-12-28T15:01:21.375421Z"
    }
   },
   "outputs": [],
   "source": [
    "month = ['January','February','March','April','May']"
   ]
  },
  {
   "cell_type": "code",
   "execution_count": 163,
   "metadata": {
    "ExecuteTime": {
     "end_time": "2020-12-28T15:04:27.060994Z",
     "start_time": "2020-12-28T15:04:27.054329Z"
    }
   },
   "outputs": [
    {
     "name": "stdout",
     "output_type": "stream",
     "text": [
      "1-January is  Jan\n",
      "2-February is  Feb\n",
      "3-March is  Mar\n",
      "4-April is  Apr\n",
      "5-May is  May\n"
     ]
    }
   ],
   "source": [
    "i =1\n",
    "for n in month:\n",
    "\n",
    "    print(f'{i}-{n} is  {n[0:3]}')\n",
    "    i+=1"
   ]
  },
  {
   "cell_type": "code",
   "execution_count": null,
   "metadata": {},
   "outputs": [],
   "source": []
  }
 ],
 "metadata": {
  "hide_input": false,
  "kernelspec": {
   "display_name": "el-dorado",
   "language": "python",
   "name": "el-dorado"
  },
  "language_info": {
   "codemirror_mode": {
    "name": "ipython",
    "version": 3
   },
   "file_extension": ".py",
   "mimetype": "text/x-python",
   "name": "python",
   "nbconvert_exporter": "python",
   "pygments_lexer": "ipython3",
   "version": "3.8.5"
  },
  "toc": {
   "base_numbering": 1,
   "nav_menu": {},
   "number_sections": true,
   "sideBar": true,
   "skip_h1_title": false,
   "title_cell": "Table of Contents",
   "title_sidebar": "Contents",
   "toc_cell": false,
   "toc_position": {},
   "toc_section_display": true,
   "toc_window_display": false
  },
  "varInspector": {
   "cols": {
    "lenName": 16,
    "lenType": 16,
    "lenVar": 40
   },
   "kernels_config": {
    "python": {
     "delete_cmd_postfix": "",
     "delete_cmd_prefix": "del ",
     "library": "var_list.py",
     "varRefreshCmd": "print(var_dic_list())"
    },
    "r": {
     "delete_cmd_postfix": ") ",
     "delete_cmd_prefix": "rm(",
     "library": "var_list.r",
     "varRefreshCmd": "cat(var_dic_list()) "
    }
   },
   "types_to_exclude": [
    "module",
    "function",
    "builtin_function_or_method",
    "instance",
    "_Feature"
   ],
   "window_display": false
  }
 },
 "nbformat": 4,
 "nbformat_minor": 4
}
