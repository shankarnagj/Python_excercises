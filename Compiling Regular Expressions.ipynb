{
 "cells": [
  {
   "cell_type": "raw",
   "metadata": {},
   "source": [
    "The first part can contain:\n",
    "Upper A-Z and lowercase letters a-z,Numbers\n",
    "Characters: !, #, %, &, *, $, .\n",
    "Must have @\n",
    "Domain:Can contain any word characters.But only .com ending is allowed"
   ]
  },
  {
   "cell_type": "code",
   "execution_count": 5,
   "metadata": {},
   "outputs": [],
   "source": [
    "import re"
   ]
  },
  {
   "cell_type": "code",
   "execution_count": 37,
   "metadata": {},
   "outputs": [
    {
     "name": "stdout",
     "output_type": "stream",
     "text": [
      "Enter e-mail : shankar@mail.com\n",
      "The email shankar@mail.com is a valid email\n"
     ]
    }
   ],
   "source": [
    "regex = r\"[A-Za-z0-9!#%&*\\$\\.]+@\\w+\\.com\"\n",
    "\n",
    "example = input('Enter e-mail : ')\n",
    "\n",
    "if re.match(regex, example):\n",
    "        # Complete the format method to print out the result\n",
    "      \tprint(f\"The email {example} is a valid email\")\n",
    "else:\n",
    "      \tprint(f\"The email {example} is invalid\")   "
   ]
  },
  {
   "cell_type": "code",
   "execution_count": null,
   "metadata": {},
   "outputs": [],
   "source": []
  },
  {
   "cell_type": "code",
   "execution_count": 14,
   "metadata": {},
   "outputs": [
    {
     "name": "stdout",
     "output_type": "stream",
     "text": [
      "Looking for \"this\" in \"Does this text match the pattern?\" ->\n",
      "found a match!\n",
      "Looking for \"that\" in \"Does this text match the pattern?\" ->\n",
      "no match\n"
     ]
    }
   ],
   "source": [
    "import re\n",
    "\n",
    "# Pre-compile the patterns\n",
    "regexes = [ re.compile(p) for p in [ 'this',\n",
    "                                     'that',\n",
    "                                     ]\n",
    "            ]\n",
    "text = 'Does this text match the pattern?'\n",
    "\n",
    "for regex in regexes:\n",
    "    print ('Looking for \"%s\" in \"%s\" ->' % (regex.pattern, text)),\n",
    "\n",
    "    if regex.search(text):\n",
    "        print ('found a match!')\n",
    "    else:\n",
    "        print ('no match')"
   ]
  },
  {
   "cell_type": "raw",
   "metadata": {},
   "source": [
    "It can contain lowercase a-z and uppercase letters A-Z\n",
    "It can contain numbers\n",
    "It can contain the symbols: *, #, $, %, !, &, .\n",
    "It must be at least 8 characters long but not more than 20"
   ]
  },
  {
   "cell_type": "code",
   "execution_count": 40,
   "metadata": {},
   "outputs": [
    {
     "name": "stdout",
     "output_type": "stream",
     "text": [
      "Enter password : shankar@#\n",
      "The password shankar@# is invalid\n"
     ]
    }
   ],
   "source": [
    "regex = r\"[a-zA-Z0-9\\*#\\$%!\\&\\.]{8,20}\"\n",
    "\n",
    "password = input('Enter password : ')\n",
    "\n",
    "if re.match(regex, password):\n",
    "        # Complete the format method to print out the result\n",
    "      \tprint(f\"The password {password} is a valid password\")\n",
    "else:\n",
    "      \tprint(f\"The password {password} is invalid\")"
   ]
  },
  {
   "cell_type": "code",
   "execution_count": null,
   "metadata": {},
   "outputs": [],
   "source": []
  },
  {
   "cell_type": "code",
   "execution_count": 17,
   "metadata": {},
   "outputs": [
    {
     "name": "stdout",
     "output_type": "stream",
     "text": [
      "purple alice@yo-yo-dyne.com, blah monkey bob@yo-yo-dyne.com blah dishwasher\n"
     ]
    }
   ],
   "source": [
    "str = 'purple alice@google.com, blah monkey bob@abc.com blah dishwasher'\n",
    "  ## re.sub(pat, replacement, str) -- returns new string with all replacements,\n",
    "  ## \\1 is group(1), \\2 group(2) in the replacement\n",
    "print (re.sub(r'([\\w\\.-]+)@([\\w\\.-]+)', r'\\1@yo-yo-dyne.com', str))\n",
    "  ## purple alice@yo-yo-dyne.com, blah monkey bob@yo-yo-dyne.com blah dishwasher"
   ]
  },
  {
   "cell_type": "code",
   "execution_count": null,
   "metadata": {},
   "outputs": [],
   "source": []
  },
  {
   "cell_type": "markdown",
   "metadata": {},
   "source": [
    "## Special Sequences"
   ]
  },
  {
   "cell_type": "raw",
   "metadata": {},
   "source": [
    "\\w - alphanumeric\n",
    "\\W - Non-alphanumeric\n",
    "\\s - white space\n",
    "\\S - Non -white space Character\n",
    "\\d - [0-9]\n",
    "\\D - Non-digit character"
   ]
  },
  {
   "cell_type": "code",
   "execution_count": 26,
   "metadata": {},
   "outputs": [
    {
     "data": {
      "text/plain": [
       "<re.Match object; span=(0, 1), match='w'>"
      ]
     },
     "execution_count": 26,
     "metadata": {},
     "output_type": "execute_result"
    }
   ],
   "source": [
    "text = \"w is ww\"\n",
    "re.search(r'\\w',text)"
   ]
  },
  {
   "cell_type": "code",
   "execution_count": null,
   "metadata": {},
   "outputs": [],
   "source": []
  },
  {
   "cell_type": "markdown",
   "metadata": {},
   "source": [
    "## Quantifiers  - A Meta character that tells the regex engine how many times to match a character immidiately to its left"
   ]
  },
  {
   "cell_type": "raw",
   "metadata": {},
   "source": [
    " {+ - One or more}\n",
    " {* - zero times or more}\n",
    " {? - zero times or one time}\n",
    " {n,m} - n times atleast ,m times most"
   ]
  },
  {
   "cell_type": "markdown",
   "metadata": {},
   "source": [
    "## Meta characters "
   ]
  },
  {
   "cell_type": "raw",
   "metadata": {},
   "source": [
    "[ ] - grouping \n",
    "\\ - espace character\n",
    ". - Match any character (except new line character)\n",
    "^ - starts with\n",
    "$ - ends with\n",
    "| - either or\n",
    "[A-Z] - match Upper case charcaters from A to Z\n",
    "[a-z] - match lower case characters from a to z\n",
    "[0-9] - match digits 0 to 9"
   ]
  },
  {
   "cell_type": "raw",
   "metadata": {},
   "source": [
    "findall() - findall patterns in given string\n",
    "match() - gives the location of pattern  if it is at beginning of the line first occurence\n",
    "search() - gives the location of pattern  if it is anywhere in the string line first occurence\n",
    "sub() - find the pattern and replace the pattern with new text\n",
    "subn() - same as sub() returns the number of substitutions"
   ]
  },
  {
   "cell_type": "code",
   "execution_count": null,
   "metadata": {},
   "outputs": [],
   "source": []
  }
 ],
 "metadata": {
  "kernelspec": {
   "display_name": "Python 3",
   "language": "python",
   "name": "python3"
  },
  "language_info": {
   "codemirror_mode": {
    "name": "ipython",
    "version": 3
   },
   "file_extension": ".py",
   "mimetype": "text/x-python",
   "name": "python",
   "nbconvert_exporter": "python",
   "pygments_lexer": "ipython3",
   "version": "3.8.5"
  }
 },
 "nbformat": 4,
 "nbformat_minor": 4
}
