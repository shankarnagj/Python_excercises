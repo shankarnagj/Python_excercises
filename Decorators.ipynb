{
 "cells": [
  {
   "cell_type": "code",
   "execution_count": 28,
   "id": "improving-apartment",
   "metadata": {},
   "outputs": [
    {
     "name": "stdout",
     "output_type": "stream",
     "text": [
      "Hello Jack\n"
     ]
    }
   ],
   "source": [
    "def say_greeting(name) :\n",
    "    return print(f\"Hello {name}\")\n",
    "\n",
    "def greet_jack(function) :    # def greet_jack(say_greeting) :\n",
    "    return function(\"Jack\")   #      return say_greeting(\"Jack\")\n",
    "    \n"
   ]
  },
  {
   "cell_type": "code",
   "execution_count": 30,
   "id": "front-location",
   "metadata": {},
   "outputs": [
    {
     "name": "stdout",
     "output_type": "stream",
     "text": [
      "Hello Jack\n"
     ]
    }
   ],
   "source": [
    "greet_jack(say_greeting)   # function(\"jack\")   #say_greeting(\"jack\")"
   ]
  },
  {
   "cell_type": "code",
   "execution_count": 31,
   "id": "industrial-blame",
   "metadata": {},
   "outputs": [],
   "source": [
    "def sum(a,b) :\n",
    "    return a+b"
   ]
  },
  {
   "cell_type": "code",
   "execution_count": 33,
   "id": "talented-andrew",
   "metadata": {},
   "outputs": [
    {
     "data": {
      "text/plain": [
       "5"
      ]
     },
     "execution_count": 33,
     "metadata": {},
     "output_type": "execute_result"
    }
   ],
   "source": [
    "x = sum(2,3)\n",
    "x"
   ]
  },
  {
   "cell_type": "code",
   "execution_count": null,
   "id": "rising-motel",
   "metadata": {},
   "outputs": [],
   "source": []
  },
  {
   "cell_type": "code",
   "execution_count": 51,
   "id": "concrete-cambodia",
   "metadata": {},
   "outputs": [
    {
     "name": "stdout",
     "output_type": "stream",
     "text": [
      "Something is happening before the function is called.\n",
      "Hello!\n",
      "Something is happening after the function is called.\n",
      "None\n"
     ]
    }
   ],
   "source": [
    "def my_decorator_func(function):\n",
    "    def wrapper():\n",
    "        print(\"Something is happening before the function is called.\")\n",
    "        function()  #say_hello()\n",
    "        print(\"Something is happening after the function is called.\")\n",
    "    return wrapper\n",
    "\n",
    "def say_hello():\n",
    "    print(\"Hello!\")\n",
    "\n",
    "decorator = my_decorator_func(say_hello)   #decorator = wrapper\n",
    "\n",
    "print(decorator())"
   ]
  },
  {
   "cell_type": "code",
   "execution_count": null,
   "id": "exceptional-bread",
   "metadata": {},
   "outputs": [],
   "source": []
  },
  {
   "cell_type": "code",
   "execution_count": 43,
   "id": "subsequent-newsletter",
   "metadata": {},
   "outputs": [],
   "source": [
    "def my_decorator_func(function):\n",
    "    def wrapper():\n",
    "        print(\"Something is happening before the function is called.\")\n",
    "        function()\n",
    "        print(\"Something is happening after the function is called.\")\n",
    "    return wrapper\n",
    "\n",
    "@my_decorator_func        #say_hi = my_decorator_func(say_hi)\n",
    "def say_hi():\n",
    "    print(\"Hiii!\")"
   ]
  },
  {
   "cell_type": "code",
   "execution_count": 44,
   "id": "different-click",
   "metadata": {},
   "outputs": [
    {
     "name": "stdout",
     "output_type": "stream",
     "text": [
      "Something is happening before the function is called.\n",
      "Hiii!\n",
      "Something is happening after the function is called.\n",
      "None\n"
     ]
    }
   ],
   "source": [
    "print(say_hi())"
   ]
  },
  {
   "cell_type": "code",
   "execution_count": null,
   "id": "effective-stable",
   "metadata": {},
   "outputs": [],
   "source": []
  },
  {
   "cell_type": "code",
   "execution_count": 48,
   "id": "governmental-railway",
   "metadata": {},
   "outputs": [],
   "source": [
    "def do_twice(func):\n",
    "    def wrapper_do_twice(*args,**kwargs):\n",
    "        func(*args,**kwargs)\n",
    "        func(*args,**kwargs)\n",
    "    return wrapper_do_twice\n",
    "\n",
    "\n",
    "@do_twice                   # greet = do_twice(greet)\n",
    "def greet(name1,name2):\n",
    "    print(f\"Hello {name1} {name2}\")"
   ]
  },
  {
   "cell_type": "code",
   "execution_count": 50,
   "id": "retired-respondent",
   "metadata": {},
   "outputs": [
    {
     "name": "stdout",
     "output_type": "stream",
     "text": [
      "Hello Jack Tom\n",
      "Hello Jack Tom\n",
      "None\n"
     ]
    }
   ],
   "source": [
    "print(greet(\"Jack\",\"Tom\"))"
   ]
  },
  {
   "cell_type": "code",
   "execution_count": null,
   "id": "unlikely-trademark",
   "metadata": {},
   "outputs": [],
   "source": []
  }
 ],
 "metadata": {
  "kernelspec": {
   "display_name": "Python [conda env:el-dorado] *",
   "language": "python",
   "name": "conda-env-el-dorado-py"
  },
  "language_info": {
   "codemirror_mode": {
    "name": "ipython",
    "version": 3
   },
   "file_extension": ".py",
   "mimetype": "text/x-python",
   "name": "python",
   "nbconvert_exporter": "python",
   "pygments_lexer": "ipython3",
   "version": "3.8.8"
  }
 },
 "nbformat": 4,
 "nbformat_minor": 5
}
