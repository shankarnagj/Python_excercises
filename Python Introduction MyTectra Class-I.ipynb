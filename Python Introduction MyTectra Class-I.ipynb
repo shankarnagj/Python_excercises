{
 "cells": [
  {
   "cell_type": "code",
   "execution_count": 5,
   "metadata": {
    "ExecuteTime": {
     "end_time": "2021-01-01T13:49:33.303639Z",
     "start_time": "2021-01-01T13:49:33.290598Z"
    }
   },
   "outputs": [],
   "source": [
    "import math"
   ]
  },
  {
   "cell_type": "code",
   "execution_count": 42,
   "metadata": {
    "ExecuteTime": {
     "end_time": "2020-12-31T13:34:58.410004Z",
     "start_time": "2020-12-31T13:34:58.403569Z"
    }
   },
   "outputs": [],
   "source": [
    "def perimeter(radius) :\n",
    "    circumference = 2*math.pi*radius\n",
    "    print(f'The Perimeter of Circle having radius {radius} units is {round(circumference,2)} sq.units')  #f-string\n",
    "    "
   ]
  },
  {
   "cell_type": "code",
   "execution_count": 112,
   "metadata": {
    "ExecuteTime": {
     "end_time": "2020-12-31T14:13:34.563433Z",
     "start_time": "2020-12-31T14:13:34.556374Z"
    }
   },
   "outputs": [
    {
     "name": "stdout",
     "output_type": "stream",
     "text": [
      "False\n"
     ]
    }
   ],
   "source": [
    "x = 4\n",
    "if 5 != 6 :\n",
    "    print(x != 4)"
   ]
  },
  {
   "cell_type": "code",
   "execution_count": 105,
   "metadata": {
    "ExecuteTime": {
     "end_time": "2020-12-31T14:10:19.562172Z",
     "start_time": "2020-12-31T14:10:19.557189Z"
    }
   },
   "outputs": [
    {
     "name": "stdout",
     "output_type": "stream",
     "text": [
      "5\n"
     ]
    }
   ],
   "source": [
    "x = 45 #101111\n",
    "x>>=3# x= x>>1 #10111100\n",
    "print(x)"
   ]
  },
  {
   "cell_type": "code",
   "execution_count": 47,
   "metadata": {
    "ExecuteTime": {
     "end_time": "2020-12-31T13:37:11.134763Z",
     "start_time": "2020-12-31T13:37:11.128787Z"
    }
   },
   "outputs": [],
   "source": [
    "x,y,z = 3,4,5"
   ]
  },
  {
   "cell_type": "code",
   "execution_count": 49,
   "metadata": {
    "ExecuteTime": {
     "end_time": "2020-12-31T13:37:57.189582Z",
     "start_time": "2020-12-31T13:37:57.185478Z"
    }
   },
   "outputs": [],
   "source": [
    "x=3\n",
    "y=4"
   ]
  },
  {
   "cell_type": "code",
   "execution_count": 70,
   "metadata": {
    "ExecuteTime": {
     "end_time": "2020-12-31T13:45:29.821026Z",
     "start_time": "2020-12-31T13:45:29.816909Z"
    }
   },
   "outputs": [],
   "source": [
    "z = range(5,20)"
   ]
  },
  {
   "cell_type": "code",
   "execution_count": 71,
   "metadata": {
    "ExecuteTime": {
     "end_time": "2020-12-31T13:45:30.317428Z",
     "start_time": "2020-12-31T13:45:30.312510Z"
    }
   },
   "outputs": [],
   "source": [
    " for i in z :\n",
    "        print(i)"
   ]
  },
  {
   "cell_type": "code",
   "execution_count": 55,
   "metadata": {
    "ExecuteTime": {
     "end_time": "2020-12-31T13:39:34.478007Z",
     "start_time": "2020-12-31T13:39:34.471985Z"
    }
   },
   "outputs": [
    {
     "name": "stdout",
     "output_type": "stream",
     "text": [
      "name\n"
     ]
    }
   ],
   "source": [
    "print(x)"
   ]
  },
  {
   "cell_type": "code",
   "execution_count": 17,
   "metadata": {
    "ExecuteTime": {
     "end_time": "2021-01-01T13:49:37.977958Z",
     "start_time": "2021-01-01T13:49:37.969958Z"
    }
   },
   "outputs": [],
   "source": [
    "class Circle :\n",
    "    def __init__(self,radius) :\n",
    "        self.radius = radius\n",
    "        self.diameter = 2*radius\n",
    "    \n",
    "    def perimeter(self) :\n",
    "        self.circumference = 2*math.pi*self.radius\n",
    "        print(f\"The Perimeter of Circle having radius {self.radius} is {round(self.circumference,2)}\")\n",
    "    def area(self) :\n",
    "        self.area = math.pi*(self.radius**2)\n",
    "        print(f\"The area of Circle havind radius {self.radius} is {round(self.area,2)}\")\n",
    " "
   ]
  },
  {
   "cell_type": "code",
   "execution_count": null,
   "metadata": {},
   "outputs": [],
   "source": []
  },
  {
   "cell_type": "code",
   "execution_count": 18,
   "metadata": {
    "ExecuteTime": {
     "end_time": "2021-01-01T13:49:38.731582Z",
     "start_time": "2021-01-01T13:49:38.726580Z"
    }
   },
   "outputs": [],
   "source": [
    "ring = Circle(10)\n",
    "ring_1 = Circle(12)\n",
    "ring_2 = Circle(17)"
   ]
  },
  {
   "cell_type": "code",
   "execution_count": 19,
   "metadata": {},
   "outputs": [
    {
     "data": {
      "text/plain": [
       "10"
      ]
     },
     "execution_count": 19,
     "metadata": {},
     "output_type": "execute_result"
    }
   ],
   "source": [
    "ring.radius"
   ]
  },
  {
   "cell_type": "code",
   "execution_count": 20,
   "metadata": {
    "ExecuteTime": {
     "end_time": "2021-01-01T13:49:39.124179Z",
     "start_time": "2021-01-01T13:49:39.116170Z"
    }
   },
   "outputs": [
    {
     "data": {
      "text/plain": [
       "20"
      ]
     },
     "execution_count": 20,
     "metadata": {},
     "output_type": "execute_result"
    }
   ],
   "source": [
    "ring.diameter"
   ]
  },
  {
   "cell_type": "code",
   "execution_count": 21,
   "metadata": {
    "ExecuteTime": {
     "end_time": "2021-01-01T13:49:39.735675Z",
     "start_time": "2021-01-01T13:49:39.707716Z"
    }
   },
   "outputs": [
    {
     "name": "stdout",
     "output_type": "stream",
     "text": [
      "The Perimeter of Circle having radius 10 is 62.83\n"
     ]
    }
   ],
   "source": [
    "ring.perimeter()"
   ]
  },
  {
   "cell_type": "code",
   "execution_count": 22,
   "metadata": {
    "ExecuteTime": {
     "end_time": "2020-12-31T13:26:55.332929Z",
     "start_time": "2020-12-31T13:26:55.326780Z"
    }
   },
   "outputs": [
    {
     "name": "stdout",
     "output_type": "stream",
     "text": [
      "The area of Circle havind radius 10 is 314.16\n"
     ]
    }
   ],
   "source": [
    "ring.area()"
   ]
  },
  {
   "cell_type": "code",
   "execution_count": 70,
   "metadata": {
    "ExecuteTime": {
     "end_time": "2020-12-22T13:27:45.758960Z",
     "start_time": "2020-12-22T13:27:45.752966Z"
    }
   },
   "outputs": [
    {
     "data": {
      "text/plain": [
       "10"
      ]
     },
     "execution_count": 70,
     "metadata": {},
     "output_type": "execute_result"
    }
   ],
   "source": [
    "ring.diameter"
   ]
  },
  {
   "cell_type": "code",
   "execution_count": 71,
   "metadata": {
    "ExecuteTime": {
     "end_time": "2020-12-22T13:27:46.392487Z",
     "start_time": "2020-12-22T13:27:46.378457Z"
    }
   },
   "outputs": [
    {
     "name": "stdout",
     "output_type": "stream",
     "text": [
      "The Perimeter of Circle having radius 5 is 31.42\n"
     ]
    }
   ],
   "source": [
    "ring.perimeter()"
   ]
  },
  {
   "cell_type": "code",
   "execution_count": null,
   "metadata": {},
   "outputs": [],
   "source": []
  },
  {
   "cell_type": "code",
   "execution_count": 32,
   "metadata": {
    "ExecuteTime": {
     "end_time": "2020-12-31T13:30:10.733773Z",
     "start_time": "2020-12-31T13:30:10.726078Z"
    }
   },
   "outputs": [],
   "source": [
    "class Rectangle :\n",
    "    def __init__(self,length,breadth) :\n",
    "        self.length = length\n",
    "        self.breadth = breadth\n",
    "    def displayfunc(self):\n",
    "        print(f\"Length is {self.length} and breadth is {round(self.breadth,2)}\")\n",
    "    def area(self) :\n",
    "        self.rectarea = self.length*self.breadth\n",
    "        print(f\"The area is {round(self.rectarea,4)}\")\n",
    "    "
   ]
  },
  {
   "cell_type": "code",
   "execution_count": 33,
   "metadata": {
    "ExecuteTime": {
     "end_time": "2020-12-31T13:30:10.927766Z",
     "start_time": "2020-12-31T13:30:10.923763Z"
    }
   },
   "outputs": [],
   "source": [
    "rectarea = Rectangle(5.222,4.454)"
   ]
  },
  {
   "cell_type": "code",
   "execution_count": 34,
   "metadata": {
    "ExecuteTime": {
     "end_time": "2020-12-31T13:30:11.166528Z",
     "start_time": "2020-12-31T13:30:11.159402Z"
    }
   },
   "outputs": [
    {
     "name": "stdout",
     "output_type": "stream",
     "text": [
      "The area is 23.2588\n"
     ]
    }
   ],
   "source": [
    "rectarea.area()"
   ]
  },
  {
   "cell_type": "code",
   "execution_count": 134,
   "metadata": {
    "ExecuteTime": {
     "end_time": "2020-12-22T14:48:47.061262Z",
     "start_time": "2020-12-22T14:48:47.036276Z"
    }
   },
   "outputs": [
    {
     "name": "stdout",
     "output_type": "stream",
     "text": [
      "Length is 5.222 and breadth is 4.45\n"
     ]
    }
   ],
   "source": [
    "rectarea.displayfunc()"
   ]
  },
  {
   "cell_type": "code",
   "execution_count": null,
   "metadata": {},
   "outputs": [],
   "source": []
  },
  {
   "cell_type": "code",
   "execution_count": null,
   "metadata": {},
   "outputs": [],
   "source": [
    "Delhi = City(200000,200,)"
   ]
  }
 ],
 "metadata": {
  "hide_input": false,
  "kernelspec": {
   "display_name": "Python 3",
   "language": "python",
   "name": "python3"
  },
  "language_info": {
   "codemirror_mode": {
    "name": "ipython",
    "version": 3
   },
   "file_extension": ".py",
   "mimetype": "text/x-python",
   "name": "python",
   "nbconvert_exporter": "python",
   "pygments_lexer": "ipython3",
   "version": "3.8.5"
  },
  "toc": {
   "base_numbering": 1,
   "nav_menu": {},
   "number_sections": true,
   "sideBar": true,
   "skip_h1_title": false,
   "title_cell": "Table of Contents",
   "title_sidebar": "Contents",
   "toc_cell": false,
   "toc_position": {},
   "toc_section_display": true,
   "toc_window_display": false
  },
  "varInspector": {
   "cols": {
    "lenName": 16,
    "lenType": 16,
    "lenVar": 40
   },
   "kernels_config": {
    "python": {
     "delete_cmd_postfix": "",
     "delete_cmd_prefix": "del ",
     "library": "var_list.py",
     "varRefreshCmd": "print(var_dic_list())"
    },
    "r": {
     "delete_cmd_postfix": ") ",
     "delete_cmd_prefix": "rm(",
     "library": "var_list.r",
     "varRefreshCmd": "cat(var_dic_list()) "
    }
   },
   "types_to_exclude": [
    "module",
    "function",
    "builtin_function_or_method",
    "instance",
    "_Feature"
   ],
   "window_display": false
  }
 },
 "nbformat": 4,
 "nbformat_minor": 4
}
