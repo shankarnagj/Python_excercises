{
 "cells": [
  {
   "cell_type": "code",
   "execution_count": 2,
   "metadata": {
    "ExecuteTime": {
     "end_time": "2020-12-25T14:07:20.728467Z",
     "start_time": "2020-12-25T14:07:20.724471Z"
    }
   },
   "outputs": [],
   "source": [
    "name = 'lion'"
   ]
  },
  {
   "cell_type": "code",
   "execution_count": 9,
   "metadata": {
    "ExecuteTime": {
     "end_time": "2020-12-25T14:09:29.490456Z",
     "start_time": "2020-12-25T14:09:29.482493Z"
    }
   },
   "outputs": [
    {
     "data": {
      "text/plain": [
       "'tion'"
      ]
     },
     "execution_count": 9,
     "metadata": {},
     "output_type": "execute_result"
    }
   ],
   "source": [
    "name.replace(\"l\",\"t\")"
   ]
  },
  {
   "cell_type": "code",
   "execution_count": 106,
   "metadata": {
    "ExecuteTime": {
     "end_time": "2020-12-25T14:58:20.436024Z",
     "start_time": "2020-12-25T14:58:20.431023Z"
    }
   },
   "outputs": [],
   "source": [
    "animal = {'Egg' :{1: 'one', 2: 'two',3:'three'} ,'Apple':{'pen':'paper','ani':'lion','lock':'key'}}"
   ]
  },
  {
   "cell_type": "code",
   "execution_count": 82,
   "metadata": {
    "ExecuteTime": {
     "end_time": "2020-12-25T14:42:59.561800Z",
     "start_time": "2020-12-25T14:42:59.554817Z"
    }
   },
   "outputs": [],
   "source": [
    "animal['Bag'] = 'giraffe'"
   ]
  },
  {
   "cell_type": "code",
   "execution_count": 83,
   "metadata": {
    "ExecuteTime": {
     "end_time": "2020-12-25T14:42:59.956800Z",
     "start_time": "2020-12-25T14:42:59.951801Z"
    }
   },
   "outputs": [],
   "source": [
    "animal['Cat'] = 'leopard'"
   ]
  },
  {
   "cell_type": "code",
   "execution_count": 84,
   "metadata": {
    "ExecuteTime": {
     "end_time": "2020-12-25T14:43:00.330802Z",
     "start_time": "2020-12-25T14:43:00.323800Z"
    }
   },
   "outputs": [
    {
     "data": {
      "text/plain": [
       "{'Egg': 'tiger', 'Apple': 'jackal', 'Bag': 'giraffe', 'Cat': 'leopard'}"
      ]
     },
     "execution_count": 84,
     "metadata": {},
     "output_type": "execute_result"
    }
   ],
   "source": [
    "animal"
   ]
  },
  {
   "cell_type": "code",
   "execution_count": 79,
   "metadata": {
    "ExecuteTime": {
     "end_time": "2020-12-25T14:41:31.089897Z",
     "start_time": "2020-12-25T14:41:31.083896Z"
    }
   },
   "outputs": [],
   "source": [
    "empty_dict = {}"
   ]
  },
  {
   "cell_type": "code",
   "execution_count": 44,
   "metadata": {
    "ExecuteTime": {
     "end_time": "2020-12-25T14:25:44.572861Z",
     "start_time": "2020-12-25T14:25:44.565865Z"
    }
   },
   "outputs": [
    {
     "data": {
      "text/plain": [
       "dict"
      ]
     },
     "execution_count": 44,
     "metadata": {},
     "output_type": "execute_result"
    }
   ],
   "source": [
    "type(empty_dict)"
   ]
  },
  {
   "cell_type": "code",
   "execution_count": 49,
   "metadata": {
    "ExecuteTime": {
     "end_time": "2020-12-25T14:29:21.425694Z",
     "start_time": "2020-12-25T14:29:21.417694Z"
    }
   },
   "outputs": [
    {
     "data": {
      "text/plain": [
       "'giraffe'"
      ]
     },
     "execution_count": 49,
     "metadata": {},
     "output_type": "execute_result"
    }
   ],
   "source": [
    "animal['a_2']"
   ]
  },
  {
   "cell_type": "code",
   "execution_count": 88,
   "metadata": {
    "ExecuteTime": {
     "end_time": "2020-12-25T14:45:54.333987Z",
     "start_time": "2020-12-25T14:45:54.326987Z"
    }
   },
   "outputs": [
    {
     "data": {
      "text/plain": [
       "{'Egg': 'tiger', 'Apple': 'jackal', 'Bag': 'giraffe', 'Cat': 'leopard'}"
      ]
     },
     "execution_count": 88,
     "metadata": {},
     "output_type": "execute_result"
    }
   ],
   "source": [
    "animal"
   ]
  },
  {
   "cell_type": "code",
   "execution_count": 89,
   "metadata": {
    "ExecuteTime": {
     "end_time": "2020-12-25T14:46:18.372573Z",
     "start_time": "2020-12-25T14:46:18.368570Z"
    }
   },
   "outputs": [],
   "source": [
    "animal['Apple'] =['pen','paper']"
   ]
  },
  {
   "cell_type": "code",
   "execution_count": 90,
   "metadata": {
    "ExecuteTime": {
     "end_time": "2020-12-25T14:46:24.711070Z",
     "start_time": "2020-12-25T14:46:24.703072Z"
    }
   },
   "outputs": [
    {
     "data": {
      "text/plain": [
       "{'Egg': 'tiger', 'Apple': ['pen', 'paper'], 'Bag': 'giraffe', 'Cat': 'leopard'}"
      ]
     },
     "execution_count": 90,
     "metadata": {},
     "output_type": "execute_result"
    }
   ],
   "source": [
    "animal"
   ]
  },
  {
   "cell_type": "code",
   "execution_count": 91,
   "metadata": {
    "ExecuteTime": {
     "end_time": "2020-12-25T14:48:16.668110Z",
     "start_time": "2020-12-25T14:48:16.663113Z"
    }
   },
   "outputs": [],
   "source": [
    "animal['Egg'] = {1:'one',2:'two'}"
   ]
  },
  {
   "cell_type": "code",
   "execution_count": 107,
   "metadata": {
    "ExecuteTime": {
     "end_time": "2020-12-25T14:58:24.671099Z",
     "start_time": "2020-12-25T14:58:24.664097Z"
    }
   },
   "outputs": [
    {
     "data": {
      "text/plain": [
       "{'Egg': {1: 'one', 2: 'two', 3: 'three'},\n",
       " 'Apple': {'pen': 'paper', 'ani': 'lion', 'lock': 'key'}}"
      ]
     },
     "execution_count": 107,
     "metadata": {},
     "output_type": "execute_result"
    }
   ],
   "source": [
    "animal"
   ]
  },
  {
   "cell_type": "code",
   "execution_count": 108,
   "metadata": {
    "ExecuteTime": {
     "end_time": "2020-12-25T14:58:25.258106Z",
     "start_time": "2020-12-25T14:58:25.249099Z"
    }
   },
   "outputs": [
    {
     "name": "stdout",
     "output_type": "stream",
     "text": [
      "{1: 'one', 2: 'two', 3: 'three'}\n",
      "{1: 'one', 2: 'two', 3: 'three'}\n",
      "{1: 'one', 2: 'two', 3: 'three'}\n",
      "{'pen': 'paper', 'ani': 'lion', 'lock': 'key'}\n",
      "{'pen': 'paper', 'ani': 'lion', 'lock': 'key'}\n",
      "{'pen': 'paper', 'ani': 'lion', 'lock': 'key'}\n"
     ]
    }
   ],
   "source": [
    "for k,v in animal.items():\n",
    "    for i in v :\n",
    "        print(v)"
   ]
  },
  {
   "cell_type": "code",
   "execution_count": null,
   "metadata": {},
   "outputs": [],
   "source": []
  }
 ],
 "metadata": {
  "hide_input": false,
  "kernelspec": {
   "display_name": "el-dorado",
   "language": "python",
   "name": "el-dorado"
  },
  "language_info": {
   "codemirror_mode": {
    "name": "ipython",
    "version": 3
   },
   "file_extension": ".py",
   "mimetype": "text/x-python",
   "name": "python",
   "nbconvert_exporter": "python",
   "pygments_lexer": "ipython3",
   "version": "3.8.5"
  },
  "toc": {
   "base_numbering": 1,
   "nav_menu": {},
   "number_sections": true,
   "sideBar": true,
   "skip_h1_title": false,
   "title_cell": "Table of Contents",
   "title_sidebar": "Contents",
   "toc_cell": false,
   "toc_position": {},
   "toc_section_display": true,
   "toc_window_display": false
  },
  "varInspector": {
   "cols": {
    "lenName": 16,
    "lenType": 16,
    "lenVar": 40
   },
   "kernels_config": {
    "python": {
     "delete_cmd_postfix": "",
     "delete_cmd_prefix": "del ",
     "library": "var_list.py",
     "varRefreshCmd": "print(var_dic_list())"
    },
    "r": {
     "delete_cmd_postfix": ") ",
     "delete_cmd_prefix": "rm(",
     "library": "var_list.r",
     "varRefreshCmd": "cat(var_dic_list()) "
    }
   },
   "types_to_exclude": [
    "module",
    "function",
    "builtin_function_or_method",
    "instance",
    "_Feature"
   ],
   "window_display": false
  }
 },
 "nbformat": 4,
 "nbformat_minor": 4
}
