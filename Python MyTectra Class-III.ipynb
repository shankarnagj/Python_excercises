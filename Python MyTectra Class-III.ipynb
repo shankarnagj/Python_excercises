{
 "cells": [
  {
   "cell_type": "code",
   "execution_count": 165,
   "metadata": {
    "ExecuteTime": {
     "end_time": "2020-12-24T14:54:23.325848Z",
     "start_time": "2020-12-24T14:54:23.313849Z"
    }
   },
   "outputs": [
    {
     "data": {
      "text/plain": [
       "['lion', ['pen', 'paper'], 'tiger', 'leopard']"
      ]
     },
     "execution_count": 165,
     "metadata": {},
     "output_type": "execute_result"
    }
   ],
   "source": [
    "animals = list(['lion',['pen','paper'],'tiger','leopard'])\n",
    "animals"
   ]
  },
  {
   "cell_type": "code",
   "execution_count": 73,
   "metadata": {
    "ExecuteTime": {
     "end_time": "2020-12-24T14:10:58.673095Z",
     "start_time": "2020-12-24T14:10:58.669411Z"
    }
   },
   "outputs": [],
   "source": [
    "animals[1] = 'elephant'"
   ]
  },
  {
   "cell_type": "code",
   "execution_count": 74,
   "metadata": {
    "ExecuteTime": {
     "end_time": "2020-12-24T14:10:59.250988Z",
     "start_time": "2020-12-24T14:10:59.238999Z"
    }
   },
   "outputs": [
    {
     "data": {
      "text/plain": [
       "['lion', 'elephant', 'tiger', 'leopard']"
      ]
     },
     "execution_count": 74,
     "metadata": {},
     "output_type": "execute_result"
    }
   ],
   "source": [
    "animals"
   ]
  },
  {
   "cell_type": "code",
   "execution_count": 75,
   "metadata": {
    "ExecuteTime": {
     "end_time": "2020-12-24T14:11:21.509267Z",
     "start_time": "2020-12-24T14:11:21.503273Z"
    }
   },
   "outputs": [],
   "source": [
    "animals.append('jackal')"
   ]
  },
  {
   "cell_type": "code",
   "execution_count": 76,
   "metadata": {
    "ExecuteTime": {
     "end_time": "2020-12-24T14:11:37.224282Z",
     "start_time": "2020-12-24T14:11:37.217276Z"
    }
   },
   "outputs": [
    {
     "data": {
      "text/plain": [
       "['lion', 'elephant', 'tiger', 'leopard', 'jackal']"
      ]
     },
     "execution_count": 76,
     "metadata": {},
     "output_type": "execute_result"
    }
   ],
   "source": [
    "animals"
   ]
  },
  {
   "cell_type": "code",
   "execution_count": 77,
   "metadata": {
    "ExecuteTime": {
     "end_time": "2020-12-24T14:11:55.802812Z",
     "start_time": "2020-12-24T14:11:55.798801Z"
    }
   },
   "outputs": [],
   "source": [
    "animals.append('hyena')"
   ]
  },
  {
   "cell_type": "code",
   "execution_count": 78,
   "metadata": {
    "ExecuteTime": {
     "end_time": "2020-12-24T14:12:01.066532Z",
     "start_time": "2020-12-24T14:12:01.058990Z"
    }
   },
   "outputs": [
    {
     "data": {
      "text/plain": [
       "['lion', 'elephant', 'tiger', 'leopard', 'jackal', 'hyena']"
      ]
     },
     "execution_count": 78,
     "metadata": {},
     "output_type": "execute_result"
    }
   ],
   "source": [
    "animals"
   ]
  },
  {
   "cell_type": "code",
   "execution_count": 79,
   "metadata": {
    "ExecuteTime": {
     "end_time": "2020-12-24T14:13:15.675178Z",
     "start_time": "2020-12-24T14:13:15.666583Z"
    }
   },
   "outputs": [
    {
     "data": {
      "text/plain": [
       "['lion', 'fox', 'elephant', 'tiger', 'leopard', 'jackal', 'hyena']"
      ]
     },
     "execution_count": 79,
     "metadata": {},
     "output_type": "execute_result"
    }
   ],
   "source": [
    "animals.insert(1,'fox')\n",
    "animals"
   ]
  },
  {
   "cell_type": "code",
   "execution_count": 80,
   "metadata": {
    "ExecuteTime": {
     "end_time": "2020-12-24T14:14:32.162573Z",
     "start_time": "2020-12-24T14:14:32.154158Z"
    }
   },
   "outputs": [
    {
     "data": {
      "text/plain": [
       "['lion', 'fox', 'elephant', 'tiger', 'leopard', 'jackal', 'giraffe', 'hyena']"
      ]
     },
     "execution_count": 80,
     "metadata": {},
     "output_type": "execute_result"
    }
   ],
   "source": [
    "animals.insert(-1,'giraffe')\n",
    "animals"
   ]
  },
  {
   "cell_type": "code",
   "execution_count": 81,
   "metadata": {
    "ExecuteTime": {
     "end_time": "2020-12-24T14:17:00.191862Z",
     "start_time": "2020-12-24T14:17:00.183460Z"
    }
   },
   "outputs": [
    {
     "data": {
      "text/plain": [
       "['lion', 'elephant', 'tiger', 'leopard', 'jackal', 'giraffe', 'hyena']"
      ]
     },
     "execution_count": 81,
     "metadata": {},
     "output_type": "execute_result"
    }
   ],
   "source": [
    "del animals[1]\n",
    "animals"
   ]
  },
  {
   "cell_type": "code",
   "execution_count": 84,
   "metadata": {
    "ExecuteTime": {
     "end_time": "2020-12-24T14:18:56.889381Z",
     "start_time": "2020-12-24T14:18:56.877355Z"
    }
   },
   "outputs": [
    {
     "name": "stdout",
     "output_type": "stream",
     "text": [
      "Removed item is tiger\n"
     ]
    }
   ],
   "source": [
    "removed = animals.pop(1)\n",
    "print(f\"Removed item is {removed}\")"
   ]
  },
  {
   "cell_type": "code",
   "execution_count": 83,
   "metadata": {
    "ExecuteTime": {
     "end_time": "2020-12-24T14:18:21.850094Z",
     "start_time": "2020-12-24T14:18:21.844128Z"
    }
   },
   "outputs": [
    {
     "data": {
      "text/plain": [
       "['lion', 'tiger', 'leopard', 'jackal', 'giraffe', 'hyena']"
      ]
     },
     "execution_count": 83,
     "metadata": {},
     "output_type": "execute_result"
    }
   ],
   "source": [
    "animals"
   ]
  },
  {
   "cell_type": "code",
   "execution_count": 86,
   "metadata": {
    "ExecuteTime": {
     "end_time": "2020-12-24T14:19:38.859518Z",
     "start_time": "2020-12-24T14:19:38.855417Z"
    }
   },
   "outputs": [],
   "source": [
    "animals[3] = 'lion'"
   ]
  },
  {
   "cell_type": "code",
   "execution_count": 89,
   "metadata": {
    "ExecuteTime": {
     "end_time": "2020-12-24T14:19:50.543063Z",
     "start_time": "2020-12-24T14:19:50.536056Z"
    }
   },
   "outputs": [
    {
     "data": {
      "text/plain": [
       "['lion', 'leopard', 'jackal', 'lion', 'hyena']"
      ]
     },
     "execution_count": 89,
     "metadata": {},
     "output_type": "execute_result"
    }
   ],
   "source": [
    "animals"
   ]
  },
  {
   "cell_type": "code",
   "execution_count": 90,
   "metadata": {
    "ExecuteTime": {
     "end_time": "2020-12-24T14:20:21.855131Z",
     "start_time": "2020-12-24T14:20:21.847156Z"
    }
   },
   "outputs": [
    {
     "data": {
      "text/plain": [
       "['lion', 'leopard', 'jackal', 'lion']"
      ]
     },
     "execution_count": 90,
     "metadata": {},
     "output_type": "execute_result"
    }
   ],
   "source": [
    "animals.pop()\n",
    "animals"
   ]
  },
  {
   "cell_type": "code",
   "execution_count": 91,
   "metadata": {
    "ExecuteTime": {
     "end_time": "2020-12-24T14:21:37.458339Z",
     "start_time": "2020-12-24T14:21:37.452177Z"
    }
   },
   "outputs": [],
   "source": [
    "animals.remove('lion')"
   ]
  },
  {
   "cell_type": "code",
   "execution_count": 92,
   "metadata": {
    "ExecuteTime": {
     "end_time": "2020-12-24T14:21:41.695289Z",
     "start_time": "2020-12-24T14:21:41.686397Z"
    }
   },
   "outputs": [
    {
     "data": {
      "text/plain": [
       "['leopard', 'jackal', 'lion']"
      ]
     },
     "execution_count": 92,
     "metadata": {},
     "output_type": "execute_result"
    }
   ],
   "source": [
    "animals"
   ]
  },
  {
   "cell_type": "code",
   "execution_count": 95,
   "metadata": {
    "ExecuteTime": {
     "end_time": "2020-12-24T14:26:37.184870Z",
     "start_time": "2020-12-24T14:26:37.176997Z"
    }
   },
   "outputs": [
    {
     "data": {
      "text/plain": [
       "['leopard', 'jackal', 'lion']"
      ]
     },
     "execution_count": 95,
     "metadata": {},
     "output_type": "execute_result"
    }
   ],
   "source": [
    "animals.reverse()\n",
    "animals"
   ]
  },
  {
   "cell_type": "code",
   "execution_count": 96,
   "metadata": {
    "ExecuteTime": {
     "end_time": "2020-12-24T14:26:51.498003Z",
     "start_time": "2020-12-24T14:26:51.492990Z"
    }
   },
   "outputs": [],
   "source": [
    "animals.reverse()"
   ]
  },
  {
   "cell_type": "code",
   "execution_count": 97,
   "metadata": {
    "ExecuteTime": {
     "end_time": "2020-12-24T14:26:56.282104Z",
     "start_time": "2020-12-24T14:26:56.265407Z"
    }
   },
   "outputs": [
    {
     "data": {
      "text/plain": [
       "['lion', 'jackal', 'leopard']"
      ]
     },
     "execution_count": 97,
     "metadata": {},
     "output_type": "execute_result"
    }
   ],
   "source": [
    "animals"
   ]
  },
  {
   "cell_type": "code",
   "execution_count": 98,
   "metadata": {
    "ExecuteTime": {
     "end_time": "2020-12-24T14:28:36.758655Z",
     "start_time": "2020-12-24T14:28:36.750081Z"
    }
   },
   "outputs": [
    {
     "data": {
      "text/plain": [
       "['lion', 'jackal', 'leopard', 'hyena', 'fox']"
      ]
     },
     "execution_count": 98,
     "metadata": {},
     "output_type": "execute_result"
    }
   ],
   "source": [
    "animals.append('hyena')\n",
    "animals.append('fox')\n",
    "animals"
   ]
  },
  {
   "cell_type": "code",
   "execution_count": 99,
   "metadata": {
    "ExecuteTime": {
     "end_time": "2020-12-24T14:28:47.414910Z",
     "start_time": "2020-12-24T14:28:47.409984Z"
    }
   },
   "outputs": [],
   "source": [
    "animals.reverse()"
   ]
  },
  {
   "cell_type": "code",
   "execution_count": 100,
   "metadata": {
    "ExecuteTime": {
     "end_time": "2020-12-24T14:29:06.935856Z",
     "start_time": "2020-12-24T14:29:06.929089Z"
    }
   },
   "outputs": [
    {
     "data": {
      "text/plain": [
       "['fox', 'hyena', 'leopard', 'jackal', 'lion']"
      ]
     },
     "execution_count": 100,
     "metadata": {},
     "output_type": "execute_result"
    }
   ],
   "source": [
    "animals"
   ]
  },
  {
   "cell_type": "code",
   "execution_count": 101,
   "metadata": {
    "ExecuteTime": {
     "end_time": "2020-12-24T14:29:38.378944Z",
     "start_time": "2020-12-24T14:29:38.370873Z"
    }
   },
   "outputs": [
    {
     "data": {
      "text/plain": [
       "['lion', 'jackal', 'leopard', 'hyena', 'fox']"
      ]
     },
     "execution_count": 101,
     "metadata": {},
     "output_type": "execute_result"
    }
   ],
   "source": [
    "animals.reverse()\n",
    "animals"
   ]
  },
  {
   "cell_type": "code",
   "execution_count": 102,
   "metadata": {
    "ExecuteTime": {
     "end_time": "2020-12-24T14:30:11.313647Z",
     "start_time": "2020-12-24T14:30:11.307056Z"
    }
   },
   "outputs": [
    {
     "name": "stdout",
     "output_type": "stream",
     "text": [
      "['fox', 'hyena', 'jackal', 'leopard', 'lion']\n"
     ]
    }
   ],
   "source": [
    "print(sorted(animals))"
   ]
  },
  {
   "cell_type": "code",
   "execution_count": 103,
   "metadata": {
    "ExecuteTime": {
     "end_time": "2020-12-24T14:30:53.559354Z",
     "start_time": "2020-12-24T14:30:53.551407Z"
    }
   },
   "outputs": [
    {
     "data": {
      "text/plain": [
       "['lion', 'jackal', 'leopard', 'hyena', 'fox']"
      ]
     },
     "execution_count": 103,
     "metadata": {},
     "output_type": "execute_result"
    }
   ],
   "source": [
    "animals"
   ]
  },
  {
   "cell_type": "code",
   "execution_count": 104,
   "metadata": {
    "ExecuteTime": {
     "end_time": "2020-12-24T14:31:23.418071Z",
     "start_time": "2020-12-24T14:31:23.413411Z"
    }
   },
   "outputs": [],
   "source": [
    "animals.sort()  #sorting Permanently"
   ]
  },
  {
   "cell_type": "code",
   "execution_count": 105,
   "metadata": {
    "ExecuteTime": {
     "end_time": "2020-12-24T14:31:27.875020Z",
     "start_time": "2020-12-24T14:31:27.868410Z"
    }
   },
   "outputs": [
    {
     "data": {
      "text/plain": [
       "['fox', 'hyena', 'jackal', 'leopard', 'lion']"
      ]
     },
     "execution_count": 105,
     "metadata": {},
     "output_type": "execute_result"
    }
   ],
   "source": [
    "animals"
   ]
  },
  {
   "cell_type": "code",
   "execution_count": 111,
   "metadata": {
    "ExecuteTime": {
     "end_time": "2020-12-24T14:39:01.825412Z",
     "start_time": "2020-12-24T14:39:01.820521Z"
    }
   },
   "outputs": [],
   "source": [
    "#animals = ['lion', 'jackal', 'leopard', 'hyena', 'fox']"
   ]
  },
  {
   "cell_type": "code",
   "execution_count": 112,
   "metadata": {
    "ExecuteTime": {
     "end_time": "2020-12-24T14:39:02.246426Z",
     "start_time": "2020-12-24T14:39:02.239552Z"
    }
   },
   "outputs": [],
   "source": [
    "animals.sort(reverse = False)"
   ]
  },
  {
   "cell_type": "code",
   "execution_count": 113,
   "metadata": {
    "ExecuteTime": {
     "end_time": "2020-12-24T14:39:02.871684Z",
     "start_time": "2020-12-24T14:39:02.864200Z"
    }
   },
   "outputs": [
    {
     "data": {
      "text/plain": [
       "['fox', 'hyena', 'jackal', 'leopard', 'lion']"
      ]
     },
     "execution_count": 113,
     "metadata": {},
     "output_type": "execute_result"
    }
   ],
   "source": [
    "animals"
   ]
  },
  {
   "cell_type": "code",
   "execution_count": 121,
   "metadata": {
    "ExecuteTime": {
     "end_time": "2020-12-24T14:43:39.590995Z",
     "start_time": "2020-12-24T14:43:39.582998Z"
    }
   },
   "outputs": [
    {
     "data": {
      "text/plain": [
       "['fox', 'hyena', 'jackal', 'leopard', 'lion']"
      ]
     },
     "execution_count": 121,
     "metadata": {},
     "output_type": "execute_result"
    }
   ],
   "source": [
    "animals[:] #animals index 1 to 3"
   ]
  },
  {
   "cell_type": "code",
   "execution_count": 129,
   "metadata": {
    "ExecuteTime": {
     "end_time": "2020-12-24T14:46:18.539817Z",
     "start_time": "2020-12-24T14:46:18.532238Z"
    }
   },
   "outputs": [
    {
     "data": {
      "text/plain": [
       "3"
      ]
     },
     "execution_count": 129,
     "metadata": {},
     "output_type": "execute_result"
    }
   ],
   "source": [
    "\n",
    "7//2"
   ]
  },
  {
   "cell_type": "code",
   "execution_count": 155,
   "metadata": {
    "ExecuteTime": {
     "end_time": "2020-12-24T14:51:10.182801Z",
     "start_time": "2020-12-24T14:51:10.175815Z"
    }
   },
   "outputs": [
    {
     "data": {
      "text/plain": [
       "3"
      ]
     },
     "execution_count": 155,
     "metadata": {},
     "output_type": "execute_result"
    }
   ],
   "source": [
    "x = 3\n",
    "x"
   ]
  },
  {
   "cell_type": "code",
   "execution_count": 167,
   "metadata": {
    "ExecuteTime": {
     "end_time": "2020-12-24T14:55:12.947037Z",
     "start_time": "2020-12-24T14:55:12.936880Z"
    }
   },
   "outputs": [
    {
     "name": "stderr",
     "output_type": "stream",
     "text": [
      "<>:1: SyntaxWarning: \"is not\" with a literal. Did you mean \"!=\"?\n",
      "<>:1: SyntaxWarning: \"is not\" with a literal. Did you mean \"!=\"?\n",
      "<ipython-input-167-cd9181e05562>:1: SyntaxWarning: \"is not\" with a literal. Did you mean \"!=\"?\n",
      "  x is not 3\n"
     ]
    },
    {
     "data": {
      "text/plain": [
       "False"
      ]
     },
     "execution_count": 167,
     "metadata": {},
     "output_type": "execute_result"
    }
   ],
   "source": [
    "x is not 3  "
   ]
  },
  {
   "cell_type": "code",
   "execution_count": 168,
   "metadata": {
    "ExecuteTime": {
     "end_time": "2020-12-24T14:55:41.540890Z",
     "start_time": "2020-12-24T14:55:41.533887Z"
    }
   },
   "outputs": [
    {
     "data": {
      "text/plain": [
       "['lion', ['pen', 'paper'], 'tiger', 'leopard']"
      ]
     },
     "execution_count": 168,
     "metadata": {},
     "output_type": "execute_result"
    }
   ],
   "source": [
    "animals"
   ]
  },
  {
   "cell_type": "code",
   "execution_count": 171,
   "metadata": {
    "ExecuteTime": {
     "end_time": "2020-12-24T14:56:36.385837Z",
     "start_time": "2020-12-24T14:56:36.377650Z"
    }
   },
   "outputs": [
    {
     "data": {
      "text/plain": [
       "True"
      ]
     },
     "execution_count": 171,
     "metadata": {},
     "output_type": "execute_result"
    }
   ],
   "source": [
    "'fox' not in animals"
   ]
  },
  {
   "cell_type": "code",
   "execution_count": 172,
   "metadata": {
    "ExecuteTime": {
     "end_time": "2020-12-24T14:57:19.053177Z",
     "start_time": "2020-12-24T14:57:19.045883Z"
    }
   },
   "outputs": [
    {
     "name": "stdout",
     "output_type": "stream",
     "text": [
      "lion\n",
      "['pen', 'paper']\n",
      "tiger\n",
      "leopard\n"
     ]
    }
   ],
   "source": [
    "for animal in animals :\n",
    "    print(animal)"
   ]
  },
  {
   "cell_type": "code",
   "execution_count": null,
   "metadata": {},
   "outputs": [],
   "source": []
  }
 ],
 "metadata": {
  "hide_input": false,
  "kernelspec": {
   "display_name": "Python 3",
   "language": "python",
   "name": "python3"
  },
  "language_info": {
   "codemirror_mode": {
    "name": "ipython",
    "version": 3
   },
   "file_extension": ".py",
   "mimetype": "text/x-python",
   "name": "python",
   "nbconvert_exporter": "python",
   "pygments_lexer": "ipython3",
   "version": "3.8.5"
  },
  "toc": {
   "base_numbering": 1,
   "nav_menu": {},
   "number_sections": true,
   "sideBar": true,
   "skip_h1_title": false,
   "title_cell": "Table of Contents",
   "title_sidebar": "Contents",
   "toc_cell": false,
   "toc_position": {},
   "toc_section_display": true,
   "toc_window_display": false
  },
  "varInspector": {
   "cols": {
    "lenName": 16,
    "lenType": 16,
    "lenVar": 40
   },
   "kernels_config": {
    "python": {
     "delete_cmd_postfix": "",
     "delete_cmd_prefix": "del ",
     "library": "var_list.py",
     "varRefreshCmd": "print(var_dic_list())"
    },
    "r": {
     "delete_cmd_postfix": ") ",
     "delete_cmd_prefix": "rm(",
     "library": "var_list.r",
     "varRefreshCmd": "cat(var_dic_list()) "
    }
   },
   "types_to_exclude": [
    "module",
    "function",
    "builtin_function_or_method",
    "instance",
    "_Feature"
   ],
   "window_display": false
  }
 },
 "nbformat": 4,
 "nbformat_minor": 4
}
